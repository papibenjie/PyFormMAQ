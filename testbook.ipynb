{
 "metadata": {
  "language_info": {
   "codemirror_mode": {
    "name": "ipython",
    "version": 3
   },
   "file_extension": ".py",
   "mimetype": "text/x-python",
   "name": "python",
   "nbconvert_exporter": "python",
   "pygments_lexer": "ipython3",
   "version": "3.7.9-final"
  },
  "orig_nbformat": 2,
  "kernelspec": {
   "name": "python3",
   "display_name": "Python 3.7.9 64-bit ('PyFormMAQ': pipenv)",
   "metadata": {
    "interpreter": {
     "hash": "b85d9ede6ae3385a2ead1a3858f9ced7992d00a1924951de0afc9c85ff8c9209"
    }
   }
  }
 },
 "nbformat": 4,
 "nbformat_minor": 2,
 "cells": [
  {
   "cell_type": "code",
   "execution_count": null,
   "metadata": {},
   "outputs": [],
   "source": [
    "from birdseye import eye\n",
    "\n",
    "a = 3\n",
    "b = 5\n",
    "\n",
    "@eye\n",
    "def test(v, b):\n",
    "    for i in range(v * b):\n",
    "        return v + b\n",
    "\n",
    "for _ in range(10):\n",
    "    print(test(3, 6))\n"
   ]
  },
  {
   "cell_type": "code",
   "execution_count": null,
   "metadata": {},
   "outputs": [],
   "source": []
  }
 ]
}